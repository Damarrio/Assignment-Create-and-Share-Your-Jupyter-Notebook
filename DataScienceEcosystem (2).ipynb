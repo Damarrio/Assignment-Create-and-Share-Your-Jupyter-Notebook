{
 "cells": [
  {
   "cell_type": "markdown",
   "id": "d53fde42-7d62-4bfe-9a86-dd2eb23e44e4",
   "metadata": {},
   "source": [
    "# Data Science Tools and Ecosystem"
   ]
  },
  {
   "cell_type": "markdown",
   "id": "bae75eb8-5afa-4c2d-b690-28cab1164922",
   "metadata": {},
   "source": [
    "# Data Science Tools and Ecosystem"
   ]
  },
  {
   "cell_type": "markdown",
   "id": "f9a51f98-ec8b-43ae-ac67-8fddcf37b712",
   "metadata": {},
   "source": [
    "## Author\n",
    "Chris Marriott"
   ]
  },
  {
   "cell_type": "markdown",
   "id": "ab867ad4-5513-4614-952a-69ae24bbf178",
   "metadata": {},
   "source": [
    "In this notebook, Data Science Tools and Ecosystem are summarized."
   ]
  },
  {
   "cell_type": "markdown",
   "id": "95613537-0473-4554-828b-3c6ec2228626",
   "metadata": {},
   "source": [
    "**Objectives**\n",
    "- List popular languages for Data Science\n",
    "- List commonly used libraries used by Data Scientists\n",
    "- List some Data Science tools\n",
    "- Demonstrate how to use Python to evaluate arithmetic expressions\n",
    "- Demonstrate the author's ability to use JupyterLab Markdown!"
   ]
  },
  {
   "cell_type": "markdown",
   "id": "0aa63178-194c-404f-aea8-427ccca922d4",
   "metadata": {},
   "source": [
    "Some of the popular languages that Data Scientists use are:\n",
    "\n",
    "1. Python\n",
    "2. R\n",
    "3. Java\n",
    "4. C++\n",
    "5. Julia"
   ]
  },
  {
   "cell_type": "markdown",
   "id": "0b54d78d-e15a-4b1f-ab65-4ad48c0740fe",
   "metadata": {},
   "source": [
    "Some of the commonly used libraries used by Data Scientists include:\n",
    "\n",
    "1. Pandas (Python)\n",
    "2. TensorFlow (Python)\n",
    "3. ggplot2 (R)"
   ]
  },
  {
   "cell_type": "markdown",
   "id": "e4155ed5-9cf9-497c-9496-9e2a9cef3353",
   "metadata": {},
   "source": [
    "| Data Science Tools |\n",
    "| ---- |\n",
    "| Hadoop |\n",
    "| KNIME |\n",
    "| Apache Spark |"
   ]
  },
  {
   "cell_type": "markdown",
   "id": "9fa68585-48a7-4103-a6a6-b3a1b128a3c7",
   "metadata": {},
   "source": [
    "### Below are a few examples of evaluating arithmetc expressions in Python"
   ]
  },
  {
   "cell_type": "code",
   "execution_count": 1,
   "id": "3901f48f-a30f-480f-9b28-1246226c0658",
   "metadata": {},
   "outputs": [
    {
     "data": {
      "text/plain": [
       "17"
      ]
     },
     "execution_count": 1,
     "metadata": {},
     "output_type": "execute_result"
    }
   ],
   "source": [
    "#This is a simple arithmetic expression to multiply then add integers\n",
    "(3*4)+5"
   ]
  },
  {
   "cell_type": "code",
   "execution_count": 5,
   "id": "34668145-3985-4b34-ab83-967a932aa8b1",
   "metadata": {},
   "outputs": [
    {
     "name": "stdout",
     "output_type": "stream",
     "text": [
      "200 minutes is equal to 3.3333333333333335 hours.\n"
     ]
    }
   ],
   "source": [
    "#This will convert 200 minutes to hours by dividing by 60\n",
    "x=200/60\n",
    "print(\"200 minutes is equal to\", x, \"hours.\")"
   ]
  },
  {
   "cell_type": "code",
   "execution_count": null,
   "id": "8c56c429-01eb-4385-8c68-8e5e46f9d34f",
   "metadata": {},
   "outputs": [],
   "source": []
  }
 ],
 "metadata": {
  "kernelspec": {
   "display_name": "Python 3 (ipykernel)",
   "language": "python",
   "name": "python3"
  },
  "language_info": {
   "codemirror_mode": {
    "name": "ipython",
    "version": 3
   },
   "file_extension": ".py",
   "mimetype": "text/x-python",
   "name": "python",
   "nbconvert_exporter": "python",
   "pygments_lexer": "ipython3",
   "version": "3.11.7"
  }
 },
 "nbformat": 4,
 "nbformat_minor": 5
}
